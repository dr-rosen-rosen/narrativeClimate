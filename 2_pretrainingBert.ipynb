{
 "cells": [
  {
   "cell_type": "code",
   "execution_count": 37,
   "metadata": {},
   "outputs": [],
   "source": [
    "from transformers import BertTokenizer, BertForPreTraining\n",
    "import torch, torchvision\n",
    "import tensorflow as tf\n",
    "import pandas as pd\n",
    "from datasets import Dataset\n",
    "import multiprocessing\n"
   ]
  },
  {
   "cell_type": "code",
   "execution_count": 6,
   "metadata": {},
   "outputs": [
    {
     "name": "stdout",
     "output_type": "stream",
     "text": [
      "tensor([1.], device='mps:0')\n"
     ]
    }
   ],
   "source": [
    "# Set up GPU backend\n",
    "# https://pytorch.org/docs/main/notes/mps.html\n",
    "# https://stackoverflow.com/questions/63423463/using-pytorch-cuda-on-macbook-pro\n",
    "if torch.backends.mps.is_available():\n",
    "    mps_device = torch.device(\"mps\")\n",
    "    x = torch.ones(1, device=mps_device)\n",
    "    print (x)\n",
    "    # output expected:\n",
    "    # tensor([1.], device='mps:0')\n",
    "\n",
    "else:\n",
    "    print (\"MPS device not found.\")"
   ]
  },
  {
   "cell_type": "code",
   "execution_count": 42,
   "metadata": {},
   "outputs": [
    {
     "name": "stdout",
     "output_type": "stream",
     "text": [
      "516259\n",
      "448453\n"
     ]
    }
   ],
   "source": [
    "# Read in events and store as dataset\n",
    "df = pd.read_csv('eid_eventText.csv', usecols=['eid','event_text']).dropna(how='any',axis=0)\n",
    "print(len(df))\n",
    "df.drop_duplicates(subset=['event_text'],keep='first',inplace=True)\n",
    "print(len(df))\n",
    "dataset = Dataset.from_pandas(df).shuffle(seed=242)"
   ]
  },
  {
   "cell_type": "code",
   "execution_count": 41,
   "metadata": {},
   "outputs": [
    {
     "name": "stderr",
     "output_type": "stream",
     "text": [
      "Map (num_proc=24): 100%|██████████| 448453/448453 [02:15<00:00, 3313.92 examples/s] \n"
     ]
    }
   ],
   "source": [
    "# Tokenization\n",
    "model = BertForPreTraining.from_pretrained(\"bert-base-uncased\")\n",
    "tokenizer = BertTokenizer.from_pretrained(\"bert-base-uncased\")\n",
    "\n",
    "def tokenize_function(reports):\n",
    "    return tokenizer(reports[\"event_text\"], return_tensors=\"np\", truncation=True, padding=\"max_length\")\n",
    "\n",
    "tokenized_ds = dataset.map(tokenize_function, batched=True, num_proc=multiprocessing.cpu_count())"
   ]
  },
  {
   "cell_type": "code",
   "execution_count": null,
   "metadata": {},
   "outputs": [],
   "source": [
    "# Setup model\n",
    "# https://github.com/google-research/bert#pre-training-with-bert\n",
    "# https://huggingface.co/learn/nlp-course/chapter3/3\n",
    "# https://huggingface.co/blog/pretraining-bert\n",
    "# https://huggingface.co/transformers/v3.0.2/model_doc/bert.html#overview\n",
    "# https://www.kaggle.com/code/thierryneusius/pretraining-bert-with-hugging-face-transformers\n",
    "tokenized_ds.train_test_split(test_size=0.1)"
   ]
  },
  {
   "cell_type": "code",
   "execution_count": 35,
   "metadata": {},
   "outputs": [
    {
     "data": {
      "text/plain": [
       "24"
      ]
     },
     "execution_count": 35,
     "metadata": {},
     "output_type": "execute_result"
    }
   ],
   "source": [
    "multiprocessing.cpu_count()"
   ]
  }
 ],
 "metadata": {
  "kernelspec": {
   "display_name": "Python 3",
   "language": "python",
   "name": "python3"
  },
  "language_info": {
   "codemirror_mode": {
    "name": "ipython",
    "version": 3
   },
   "file_extension": ".py",
   "mimetype": "text/x-python",
   "name": "python",
   "nbconvert_exporter": "python",
   "pygments_lexer": "ipython3",
   "version": "3.12.1"
  }
 },
 "nbformat": 4,
 "nbformat_minor": 2
}
